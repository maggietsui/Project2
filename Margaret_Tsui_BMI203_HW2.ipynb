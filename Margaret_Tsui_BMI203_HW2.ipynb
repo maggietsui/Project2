{
 "cells": [
  {
   "cell_type": "markdown",
   "metadata": {},
   "source": [
    "# Part 2"
   ]
  },
  {
   "cell_type": "markdown",
   "metadata": {},
   "source": [
    "### 1. Explain the distance metric you utilized to calculate the similarity/dissimilarity between small molecules."
   ]
  },
  {
   "cell_type": "markdown",
   "metadata": {},
   "source": [
    "I used 1 - (jaccard index) as a distance metric. The jaccard index is the intersect of members divided by the union of members, which gives a measure of similarity between the two groups. Here, for two ligands, the JI is calculated by taking the intersect of their on bits divided by the union. Since this is a measure of similarity between 0 and 1, I do 1 - JI to get a measure of difference or distance."
   ]
  },
  {
   "cell_type": "markdown",
   "metadata": {},
   "source": [
    "### 2. Use a dimensionality reduction algorithm (PCA, t-SNE, UMAP, etc) to generate a 2D visualization of the small molecule dataset."
   ]
  },
  {
   "cell_type": "code",
   "execution_count": 1,
   "metadata": {},
   "outputs": [],
   "source": [
    "from clusters.algs import *\n",
    "#from scipy.sparse import lil_matrix\n",
    "#import umap\n",
    "#import umap.plot\n",
    "#import matplotlib.pyplot as plt\n"
   ]
  },
  {
   "cell_type": "code",
   "execution_count": null,
   "metadata": {},
   "outputs": [],
   "source": [
    "# Load data (downsampling to the first 2000 ligands)\n",
    "table = pd.read_csv(\"./ligand_information.csv\")\n",
    "table['OnBits'] = table['OnBits'].str.split(\",\")\n",
    "table = table.head(n = 2000)\n",
    "\n",
    "# Create a list of lists of onbits for each ligand\n",
    "lil = list(table['OnBits'])\n",
    "lil = [list(map(int, i)) for i in lil]\n",
    "\n",
    "# Create sparse matrix\n",
    "factor_matrix = lil_matrix((len(table), 1024), dtype=np.float32)\n",
    "factor_matrix.rows = np.array(lil)\n",
    "data = [[1] * len(i) for i in lil]\n",
    "factor_matrix.data = np.array(data)\n"
   ]
  },
  {
   "cell_type": "code",
   "execution_count": null,
   "metadata": {},
   "outputs": [],
   "source": [
    "factor_matrix"
   ]
  },
  {
   "cell_type": "code",
   "execution_count": null,
   "metadata": {},
   "outputs": [],
   "source": [
    "# fit umap\n",
    "mapper = umap.UMAP(metric='cosine', random_state=42, low_memory=True).fit(factor_matrix)\n"
   ]
  },
  {
   "cell_type": "code",
   "execution_count": null,
   "metadata": {},
   "outputs": [],
   "source": [
    "umap.plot.points(mapper)"
   ]
  },
  {
   "cell_type": "markdown",
   "metadata": {},
   "source": [
    "### 3. Cluster the small molecules using your implementation of a partitioning clustering algorithm. Visualize this clustering by coloring clusters on the 2D visualization generated in question 2."
   ]
  },
  {
   "cell_type": "code",
   "execution_count": null,
   "metadata": {},
   "outputs": [],
   "source": [
    "weights = np.ones(len(ligands))\n",
    "random.choices(range(len(ligands)), weights)[0]"
   ]
  },
  {
   "cell_type": "code",
   "execution_count": null,
   "metadata": {},
   "outputs": [],
   "source": [
    "pc = PartitionClustering()\n",
    "ligands = pc.get_ligands(10)\n",
    "pc.cluster(ligands, k=3)"
   ]
  },
  {
   "cell_type": "code",
   "execution_count": 6,
   "metadata": {},
   "outputs": [
    {
     "name": "stdout",
     "output_type": "stream",
     "text": [
      "[2, 0, -1, -1, -1, -1, -1, -1, -1, 1]\n"
     ]
    }
   ],
   "source": [
    "pc = PartitionClustering()\n",
    "ligands = pc.get_ligands(10)\n",
    "c = pc.cluster(ligands, k=3)"
   ]
  },
  {
   "cell_type": "code",
   "execution_count": null,
   "metadata": {},
   "outputs": [],
   "source": [
    "lig = 5 \n",
    "chosen = [5]\n",
    "i = 0\n",
    "while(lig in chosen):\n",
    "    print(\"hello\")\n",
    "    if i == 2:\n",
    "        lig = 6\n",
    "    i += 1"
   ]
  },
  {
   "cell_type": "code",
   "execution_count": null,
   "metadata": {},
   "outputs": [],
   "source": [
    "k= 3\n",
    "d = pc.distance_matrix(ligands)\n",
    "centroids = []\n",
    "clusters = [-1] * len(ligands)\n",
    "\n",
    "# start with equal weights for all ligands\n",
    "weights = np.ones(len(ligands))\n",
    "\n",
    "for i in range(k):\n",
    "    lig = random.choices(range(len(ligands)), weights)[0]\n",
    "    clusters[lig] = i\n",
    "    centroids.append(ligands[lig].onbits)\n",
    "    # update weights to the distance between lig and all other ligs\n",
    "    weights = copy.deepcopy(d[lig,:])\n",
    "    weights[np.where(weights == float(\"inf\"))] = -10 # downweight the same ligand\n"
   ]
  },
  {
   "cell_type": "code",
   "execution_count": null,
   "metadata": {},
   "outputs": [],
   "source": [
    "clusters"
   ]
  },
  {
   "cell_type": "code",
   "execution_count": null,
   "metadata": {},
   "outputs": [],
   "source": [
    "centroids"
   ]
  },
  {
   "cell_type": "code",
   "execution_count": null,
   "metadata": {},
   "outputs": [],
   "source": [
    "pc = PartitionClustering()\n",
    "ligands = pc.get_ligands(len(table))\n",
    "clusters = {}\n",
    "sil_scores = []\n",
    "\n",
    "# Try different values of k \n",
    "for i in range(2,5):\n",
    "    clustering = pc.cluster(ligands, k=i)\n",
    "    clusters[i] = clustering\n",
    "    sil_scores.append(pc.silhouette_score(ligands, clustering))"
   ]
  },
  {
   "cell_type": "code",
   "execution_count": null,
   "metadata": {},
   "outputs": [],
   "source": [
    "sil_scores"
   ]
  },
  {
   "cell_type": "code",
   "execution_count": null,
   "metadata": {},
   "outputs": [],
   "source": [
    "clustering = [0] * len(ligands)\n",
    "for i in range(len(clusters)):\n",
    "    for j in range(len(clusters[i])):\n",
    "        idx = clusters[i][j]\n",
    "        clustering[idx] = i\n"
   ]
  },
  {
   "cell_type": "code",
   "execution_count": null,
   "metadata": {},
   "outputs": [],
   "source": [
    "umap.plot.points(mapper, np.array(clusters))"
   ]
  },
  {
   "cell_type": "code",
   "execution_count": null,
   "metadata": {},
   "outputs": [],
   "source": [
    "clusters"
   ]
  },
  {
   "cell_type": "code",
   "execution_count": null,
   "metadata": {},
   "outputs": [],
   "source": [
    "clustering"
   ]
  },
  {
   "cell_type": "code",
   "execution_count": null,
   "metadata": {},
   "outputs": [],
   "source": [
    "table['HC'] = clustering_hc\n",
    "table['PC'] = clustering"
   ]
  },
  {
   "cell_type": "code",
   "execution_count": null,
   "metadata": {},
   "outputs": [],
   "source": [
    "clusters_hc"
   ]
  },
  {
   "cell_type": "code",
   "execution_count": null,
   "metadata": {},
   "outputs": [],
   "source": [
    "table.head(n=100)"
   ]
  },
  {
   "cell_type": "code",
   "execution_count": null,
   "metadata": {},
   "outputs": [],
   "source": [
    "import sklearn.cluster as cluster\n",
    "kmeans_labels = cluster.KMeans(n_clusters=3).fit_predict(factor_matrix)"
   ]
  },
  {
   "cell_type": "code",
   "execution_count": null,
   "metadata": {},
   "outputs": [],
   "source": [
    "kmeans_labels"
   ]
  },
  {
   "cell_type": "code",
   "execution_count": null,
   "metadata": {},
   "outputs": [],
   "source": [
    "umap.plot.points(mapper, kmeans_labels)"
   ]
  },
  {
   "cell_type": "markdown",
   "metadata": {},
   "source": [
    "### 4. Explain your choice of partitioning clustering algorithm. Is it sensitive to initialization conditions? How do you select the number of clusters?"
   ]
  },
  {
   "cell_type": "markdown",
   "metadata": {},
   "source": [
    "In my partition clustering algorithm, the clusters are initialized by randomly choosing k ligands as centroids. Yes, the final clustering is sensitive to initialization and may vary each time it is run due to the random initialization. \n"
   ]
  },
  {
   "cell_type": "code",
   "execution_count": null,
   "metadata": {},
   "outputs": [],
   "source": [
    "ligands = pc.get_ligands(20)\n",
    "clusters_pc = pc.cluster(ligands, k=2)\n",
    "clusters_pc"
   ]
  },
  {
   "cell_type": "code",
   "execution_count": null,
   "metadata": {},
   "outputs": [],
   "source": [
    "from sklearn.cluster import AgglomerativeClustering\n",
    "import numpy as np\n",
    "\n",
    "dist = np.zeros((len(ligands),len(ligands)))\n",
    "for i in range(len(ligands)):\n",
    "    for j in range(len(ligands)):\n",
    "        if i == j:\n",
    "            continue\n",
    "        dist[i,j] = hc.calculate_distance(ligands[i].onbits,ligands[j].onbits)\n",
    "\n"
   ]
  },
  {
   "cell_type": "code",
   "execution_count": null,
   "metadata": {},
   "outputs": [],
   "source": [
    "a = AgglomerativeClustering(affinity=\"precomputed\", n_clusters=2,linkage=\"single\").fit_predict(dist)\n"
   ]
  },
  {
   "cell_type": "code",
   "execution_count": null,
   "metadata": {},
   "outputs": [],
   "source": [
    "a"
   ]
  },
  {
   "cell_type": "code",
   "execution_count": null,
   "metadata": {},
   "outputs": [],
   "source": [
    "umap.plot.points(mapper, a)"
   ]
  },
  {
   "cell_type": "code",
   "execution_count": null,
   "metadata": {},
   "outputs": [],
   "source": [
    "dist"
   ]
  },
  {
   "cell_type": "markdown",
   "metadata": {},
   "source": [
    "### 5. Cluster the small molecules using your implementation of a hierarchical clustering algorithm. Visualize this clustering in the same way as question 3."
   ]
  },
  {
   "cell_type": "code",
   "execution_count": null,
   "metadata": {},
   "outputs": [],
   "source": [
    "hc = HierarchicalClustering()\n",
    "clusters_hc = hc.cluster(ligands, k=4)"
   ]
  },
  {
   "cell_type": "code",
   "execution_count": null,
   "metadata": {},
   "outputs": [],
   "source": [
    "clustering_hc = [0] * len(ligands)\n",
    "for i in range(len(clusters_hc)):\n",
    "    for j in range(len(clusters_hc[i])):\n",
    "        idx = clusters_hc[i][j]\n",
    "        clustering_hc[idx] = i\n"
   ]
  },
  {
   "cell_type": "code",
   "execution_count": null,
   "metadata": {},
   "outputs": [],
   "source": [
    "umap.plot.points(mapper, np.array(clustering_hc))"
   ]
  },
  {
   "cell_type": "markdown",
   "metadata": {},
   "source": [
    "### 6. Explain your choice of hierarchical clustering algorithm. Is it sensitive to initialization conditions? How do you select the number of clusters?"
   ]
  },
  {
   "cell_type": "markdown",
   "metadata": {},
   "source": [
    "I used single linkage in my HC algorithm, where the distance between two clusters is the minimum distance between their points. This implementation should not be sensitive to initialization because it calculates a distance matrix to group the ligands, which is not random. "
   ]
  },
  {
   "cell_type": "markdown",
   "metadata": {},
   "source": [
    "### 7. Evaluate the quality of both clusterings using your implementation of a clustering quality metric. Explain your choice of quality metric. Which clustering performed ‘best’ according to your metric?"
   ]
  },
  {
   "cell_type": "code",
   "execution_count": null,
   "metadata": {},
   "outputs": [],
   "source": [
    "hc = HierarchicalClustering()\n",
    "hc.silhouette_score(ligands, clusters_hc)"
   ]
  },
  {
   "cell_type": "code",
   "execution_count": null,
   "metadata": {},
   "outputs": [],
   "source": [
    "pc = PartitionClustering()\n",
    "clusters_pc = pc.cluster(ligands, k=4)\n",
    "pc.silhouette_score(ligands, clusters_pc)"
   ]
  },
  {
   "cell_type": "code",
   "execution_count": null,
   "metadata": {},
   "outputs": [],
   "source": []
  }
 ],
 "metadata": {
  "kernelspec": {
   "display_name": "Python 3",
   "language": "python",
   "name": "python3"
  },
  "language_info": {
   "codemirror_mode": {
    "name": "ipython",
    "version": 3
   },
   "file_extension": ".py",
   "mimetype": "text/x-python",
   "name": "python",
   "nbconvert_exporter": "python",
   "pygments_lexer": "ipython3",
   "version": "3.7.7"
  }
 },
 "nbformat": 4,
 "nbformat_minor": 4
}
